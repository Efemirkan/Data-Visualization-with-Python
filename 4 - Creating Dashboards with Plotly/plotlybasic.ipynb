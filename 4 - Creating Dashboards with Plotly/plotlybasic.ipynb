{
 "cells": [
  {
   "cell_type": "code",
   "execution_count": null,
   "id": "71a5c553-0f7a-44ba-88d0-d05c53be7735",
   "metadata": {},
   "outputs": [],
   "source": [
    "import plotly.express as px\n",
    "import plotly.graph_objects as go\n",
    "import numpy as np\n",
    "import pandas as pd"
   ]
  },
  {
   "cell_type": "markdown",
   "id": "2f5495cc-71f8-46cd-9bc7-9ceaf9692bfb",
   "metadata": {},
   "source": [
    "### Scatter Plot"
   ]
  },
  {
   "cell_type": "code",
   "execution_count": null,
   "id": "ffa50d7c-fe1a-43f4-9bfb-71043c146564",
   "metadata": {},
   "outputs": [],
   "source": [
    "income_array = np.random.randint(300000,700000,3000000)\n",
    "age_array = np.random.randint(25,55,60)"
   ]
  },
  {
   "cell_type": "markdown",
   "id": "571425a5-f213-47ac-9234-d5dcbadc5881",
   "metadata": {},
   "source": [
    "#### with plotly.express"
   ]
  },
  {
   "cell_type": "code",
   "execution_count": null,
   "id": "ba3dcac6-f330-4295-beb0-7b2f3f7f54dc",
   "metadata": {},
   "outputs": [],
   "source": [
    "## All arguments should have the same length. The length of argument `y` is 3000000, \n",
    "## whereas the length of  previously-processed arguments ['x'] is 60\n",
    "income_array2 = np.random.randint(300000,700000,60)\n",
    "age_array2 = np.random.randint(25,55,60)\n",
    "\n",
    "# Use plotly express scatter plot function px.scatter.Provide input data, x and y axis variable, and title of the chart.\n",
    "fig = px.scatter(x= age_array2,\n",
    "                 y= income_array2,\n",
    "                 title= 'Income vs Age'\n",
    "                )\n",
    "\n",
    "fig.update_xaxes(title= 'Age')\n",
    "fig.update_yaxes(title= 'Income')\n",
    "\n",
    "fig.show()"
   ]
  },
  {
   "cell_type": "markdown",
   "id": "0252c7a5-eace-4a22-a94e-d5f7804d629c",
   "metadata": {},
   "source": [
    "#### with graph_object"
   ]
  },
  {
   "cell_type": "code",
   "execution_count": null,
   "id": "5df08c27-c85c-46db-8c83-21d3f2106033",
   "metadata": {},
   "outputs": [],
   "source": [
    "# Create an empty figure\n",
    "fig = go.Figure()\n",
    "\n",
    "# Create a scatter plot by using the add_trace function\n",
    "fig.add_trace(go.Scatter(x= age_array,\n",
    "                         y= income_array,\n",
    "                         mode= 'markers',\n",
    "                         marker=dict(color='red', size=10, symbol='circle'),\n",
    "                         hovertext=['Text for point {}'.format(i+1) for i in range(len(age_array))],\n",
    "                         name='Income vs Age'\n",
    "                        )\n",
    "             )\n",
    "\n",
    "# update_layout function to update the title and labels\n",
    "fig.update_layout(title= 'Economic Survey',\n",
    "                  xaxis_title= 'Age',\n",
    "                  yaxis_title= 'Income',\n",
    "                  xaxis=dict(range=[min(age_array)-5, max(age_array)+5],\n",
    "                            ticks='outside',\n",
    "                            tickfont=dict(size=12, color='black'),\n",
    "                            ),\n",
    "                  yaxis=dict(range=[min(income_array)-50000, max(income_array)+50000],\n",
    "                            ticks='outside',\n",
    "                            tickfont=dict(size=12, color='black'),\n",
    "                            ),\n",
    "                  #plot_bgcolor='white',\n",
    "                  #font=dict(family='Arial', \n",
    "                            #size=14, \n",
    "                            #color='black'\n",
    "                           #),\n",
    "                 )\n",
    "\n",
    "# Display the figure\n",
    "fig.show()"
   ]
  },
  {
   "cell_type": "markdown",
   "id": "1fc1f0ec-f1ae-4d7f-8616-9206d50d039f",
   "metadata": {},
   "source": [
    "### Line Plot"
   ]
  },
  {
   "cell_type": "code",
   "execution_count": null,
   "id": "38594a19-bb17-4a38-a7ec-093e42fbd4d4",
   "metadata": {},
   "outputs": [],
   "source": [
    "numberofbicyclessold_array=[50,100,40,150,160,70,60,45]\n",
    "months_array=[\"Jan\",\"Feb\",\"Mar\",\"April\",\"May\",\"June\",\"July\",\"August\"]"
   ]
  },
  {
   "cell_type": "markdown",
   "id": "a30900c3-0adb-43aa-8bcd-094f63384bf3",
   "metadata": {},
   "source": [
    "#### with plotly.express"
   ]
  },
  {
   "cell_type": "code",
   "execution_count": null,
   "id": "36c546b3-2df4-4d5b-9925-287789aff317",
   "metadata": {},
   "outputs": [],
   "source": [
    "# Use plotly express linechart function px.line.Provide input data, x and y axis variable, and title of the chart.\n",
    "fig = px.line(x= months_array,\n",
    "              y= numberofbicyclessold_array,\n",
    "              title= 'Bicycle Sales by Month'\n",
    "             )\n",
    "\n",
    "# Update name of xaxis and y axis\n",
    "fig.update_xaxes(title= 'Month')\n",
    "fig.update_yaxes(title= 'Sales')\n",
    "\n",
    "# Display the Figure\n",
    "fig.show()"
   ]
  },
  {
   "cell_type": "markdown",
   "id": "1040a5db-5faa-414f-a66f-2802fbfb432d",
   "metadata": {},
   "source": [
    "#### with graph_object"
   ]
  },
  {
   "cell_type": "code",
   "execution_count": null,
   "id": "3b03acca-f737-4391-974e-09c2bef75d59",
   "metadata": {},
   "outputs": [],
   "source": [
    "# Create an empty Figure\n",
    "fig = go.Figure()\n",
    "\n",
    "# Create a line plot using add_trace function with go.Scatter parameter\n",
    "fig.add_trace(go.Scatter(x= months_array,\n",
    "                         y= numberofbicyclessold_array,\n",
    "                         mode= 'lines',\n",
    "                         marker= dict(color= 'blue'),\n",
    "                         hovertext= ['{} bicyles sold in {}'.format(i, y) for i, y in zip(numberofbicyclessold_array, months_array)]\n",
    "                        )\n",
    "             )\n",
    "\n",
    "fig.update_layout(title= 'Bicycle sales by Month',\n",
    "                  xaxis_title= 'Month',\n",
    "                  yaxis_title= 'Sales'                  \n",
    "                 )\n",
    "\n",
    "fig.show()"
   ]
  },
  {
   "cell_type": "markdown",
   "id": "280b6dfa-57f6-452c-b020-249faa1b19dd",
   "metadata": {},
   "source": [
    "### Bar Plots"
   ]
  },
  {
   "cell_type": "code",
   "execution_count": null,
   "id": "860b266e-aaf8-434b-915c-e8732135bea3",
   "metadata": {},
   "outputs": [],
   "source": [
    "score_array=[80,90,56,88,95]\n",
    "grade_array=['Grade 6','Grade 7','Grade 8','Grade 9','Grade 10']"
   ]
  },
  {
   "cell_type": "markdown",
   "id": "195f2ca0-c637-47e1-975d-df001debdb65",
   "metadata": {},
   "source": [
    "#### with plotly.express"
   ]
  },
  {
   "cell_type": "code",
   "execution_count": null,
   "id": "7905aedb-caa1-4f4b-b118-6fcd4966d28c",
   "metadata": {},
   "outputs": [],
   "source": [
    "# Use plotly express bar chart function px.bar.Provide input data, x and y axis variable, and title of the chart.\n",
    "fig = px.bar(x= grade_array,\n",
    "             y= score_array,\n",
    "             title= 'Pass Percentage of Classes'\n",
    "            )\n",
    "\n",
    "# Display the Figure\n",
    "fig.show()"
   ]
  },
  {
   "cell_type": "markdown",
   "id": "84e5e8a0-fc96-4e49-8ff3-198363f17275",
   "metadata": {},
   "source": [
    "#### with graph_object"
   ]
  },
  {
   "cell_type": "code",
   "execution_count": null,
   "id": "5631d958-ab01-48c5-9a15-9cd0e48560c9",
   "metadata": {},
   "outputs": [],
   "source": [
    "# Create an empty Figure \n",
    "fig = go.Figure()\n",
    "\n",
    "fig.add_trace(go.Bar(x= grade_array,\n",
    "                     y= score_array,\n",
    "                     marker_color='skyblue',\n",
    "                     name='Scores',  # Example name for legend\n",
    "                     width=0.5,  # Example bar width\n",
    "                     opacity=0.8,  # Example opacity\n",
    "                     text=['Score: {}'.format(score) for score in score_array]\n",
    "                    )\n",
    "             )\n",
    "\n",
    "# Update Title and axis' names\n",
    "fig.update_layout(title= 'Pass Percentage of Classes',\n",
    "                  xaxis_title= 'Classes',\n",
    "                  yaxis_title= 'Scores'\n",
    "                 )\n",
    "\n",
    "# Display the Figure\n",
    "fig.show()"
   ]
  },
  {
   "cell_type": "markdown",
   "id": "c9f0ca4c-d1ae-445b-9c71-fa8356f1bece",
   "metadata": {},
   "source": [
    "### Histograms"
   ]
  },
  {
   "cell_type": "code",
   "execution_count": null,
   "id": "51ff051d-bccc-4d1e-b8db-0e6a5694374b",
   "metadata": {},
   "outputs": [],
   "source": [
    "heights_array = np.random.normal(160, 11, 200)"
   ]
  },
  {
   "cell_type": "markdown",
   "id": "67fbbfed-6b6f-41a8-8f1d-8d4c51af4da2",
   "metadata": {},
   "source": [
    "#### with plotly express"
   ]
  },
  {
   "cell_type": "code",
   "execution_count": null,
   "id": "83c3c9aa-88dd-4dd6-8135-5dec4553015a",
   "metadata": {},
   "outputs": [],
   "source": [
    "# Create a histogram\n",
    "fig = px.histogram(x= heights_array,\n",
    "                   title= 'Distribution of Heights',\n",
    "                   nbins=15,  # Adjust the number of bins\n",
    "                   color_discrete_sequence=['green'],  # Adjust the color of bars\n",
    "                   labels={'x': 'Height (cm)', 'y': 'Frequency'},  # Customize axis labels\n",
    "                   opacity=0.7  # Adjust opacity\n",
    "                  )\n",
    "\n",
    "# Display the Figure\n",
    "fig.show()"
   ]
  },
  {
   "cell_type": "markdown",
   "id": "ff15011b-0118-46e5-b16b-6e35c83879ef",
   "metadata": {},
   "source": [
    "#### with plotl graph_object"
   ]
  },
  {
   "cell_type": "code",
   "execution_count": null,
   "id": "eb812a02-c2c4-478d-b35b-0425a07d95f1",
   "metadata": {},
   "outputs": [],
   "source": [
    "# Create an empty Figure\n",
    "fig = go.Figure()\n",
    "\n",
    "# Create a Histogram\n",
    "fig.add_trace(go.Histogram(x= heights_array))\n",
    "\n",
    "'''\n",
    "# OR only use this line\n",
    "\n",
    "fig = go.Figure(data=[go.Histogram(x=heights_array)])\n",
    "'''\n",
    "\n",
    "# Update title , x axis and y axis names\n",
    "fig.update_layout(title= 'Distribution of Heights',\n",
    "                  xaxis_title= 'Height (cm)',\n",
    "                  yaxis_title= 'Frequency'\n",
    "                 )\n",
    "\n",
    "# Display the Figure\n",
    "fig.show()\n",
    "\n"
   ]
  },
  {
   "cell_type": "markdown",
   "id": "abc6404b-6c91-4ff6-94f8-329d839419db",
   "metadata": {},
   "source": [
    "### Bubble Plot"
   ]
  },
  {
   "cell_type": "code",
   "execution_count": null,
   "id": "8f1c5042-580d-4531-8644-6598bb78d3cf",
   "metadata": {},
   "outputs": [],
   "source": [
    "crime_details = {\n",
    "    'City' : ['Chicago', 'Chicago', 'Austin', 'Austin','Seattle','Seattle'],\n",
    "    'Numberofcrimes' : [1000, 1200, 400, 700,350,1500],\n",
    "    'Year' : ['2007', '2008', '2007', '2008','2007','2008'],\n",
    "}\n",
    "\n",
    "df = pd.DataFrame(crime_details)\n",
    "df"
   ]
  },
  {
   "cell_type": "code",
   "execution_count": null,
   "id": "59bcd88d-c309-413c-9c9b-31dff1fe840c",
   "metadata": {},
   "outputs": [],
   "source": [
    "total_crimes = df.groupby('City')['Numberofcrimes'].sum().reset_index()\n",
    "total_crimes"
   ]
  },
  {
   "cell_type": "markdown",
   "id": "270b34f1-943c-4793-9a0a-94604daebf28",
   "metadata": {},
   "source": [
    "#### with plotly express"
   ]
  },
  {
   "cell_type": "code",
   "execution_count": null,
   "id": "d4fbfc00-015f-45a6-b029-1d496623dea2",
   "metadata": {},
   "outputs": [],
   "source": [
    "fig = px.scatter(total_crimes,\n",
    "                 x= 'City',\n",
    "                 y= 'Numberofcrimes',\n",
    "                 size=\"Numberofcrimes\",\n",
    "                 hover_name=\"City\", \n",
    "                 title='Crime Statistics', \n",
    "                 size_max=60\n",
    "                )\n",
    "\n",
    "fig.show()"
   ]
  },
  {
   "cell_type": "markdown",
   "id": "4ebde010-d98a-4291-845f-f0f70ba3af5d",
   "metadata": {},
   "source": [
    "#### with graph_object"
   ]
  },
  {
   "cell_type": "markdown",
   "id": "36beaca9-6c3c-4466-8adb-f9dedd377213",
   "metadata": {},
   "source": [
    "weight of bubble"
   ]
  },
  {
   "cell_type": "code",
   "execution_count": null,
   "id": "78ae51bf-2c02-4dcf-8f26-01a578f482d9",
   "metadata": {},
   "outputs": [],
   "source": [
    "fig = go.Figure()\n",
    "\n",
    "fig.add_trace(go.Scatter(x= total_crimes['City'],\n",
    "                         y= total_crimes['Numberofcrimes'],\n",
    "                         mode = 'markers',                        \n",
    "                         marker=dict(size=total_crimes['Numberofcrimes'],  # Bubble size based on total number of crimes\n",
    "                                    sizemode='area',\n",
    "                                    #sizeref=2.*max(total_crimes['Numberofcrimes'])/(40.**2),  # Scale factor for bubble size\n",
    "                                    opacity=0.7                                    \n",
    "                                    ),\n",
    "                         text=total_crimes['City']\n",
    "         \n",
    "                        )\n",
    "             )\n",
    "\n",
    "fig.update_layout(title= 'Crimes in Cities',\n",
    "                  xaxis_title= 'City',\n",
    "                  yaxis_title= 'Number of Crimes'\n",
    "                 )\n",
    "\n",
    "fig.show()"
   ]
  },
  {
   "cell_type": "markdown",
   "id": "31791283-d65b-4d8c-be39-8a484be0e493",
   "metadata": {},
   "source": [
    "color of bubble"
   ]
  },
  {
   "cell_type": "code",
   "execution_count": null,
   "id": "776eb02b-546f-4efc-8a9e-e04bf2856726",
   "metadata": {},
   "outputs": [],
   "source": [
    "fig = go.Figure()\n",
    "\n",
    "fig.add_trace(go.Scatter(x=total_crimes['City'],\n",
    "                        y=total_crimes['Numberofcrimes'],\n",
    "                        mode='markers',\n",
    "                        marker=dict(size=total_crimes['Numberofcrimes'],  # Bubble size based on total number of crimes\n",
    "                                    sizemode='area',\n",
    "                                    color=total_crimes['Numberofcrimes'],  # Bubble color based on total number of crimes\n",
    "                                    colorscale='Viridis',  # Color scale\n",
    "                                    opacity=0.7,\n",
    "                                    colorbar=dict(title='Total Number of Crimes')\n",
    "                                    ),\n",
    "                        text=total_crimes['City'],  # Text label for each bubble\n",
    "))\n",
    "\n",
    "fig.update_layout(title= 'Crimes in Cities',\n",
    "                  xaxis_title= 'City',\n",
    "                  yaxis_title= 'Number of Crimes'\n",
    "                 )\n",
    "\n",
    "fig.show()"
   ]
  },
  {
   "cell_type": "markdown",
   "id": "0b34d04c-9503-401e-a9be-16b4bcbe89af",
   "metadata": {},
   "source": [
    "### Pie Chart"
   ]
  },
  {
   "cell_type": "code",
   "execution_count": null,
   "id": "f85ada24-a76e-48c9-b4bd-2b1f698fe9bd",
   "metadata": {},
   "outputs": [],
   "source": [
    "exp_percent= [20, 50, 10,8,12]\n",
    "house_holdcategories = ['Grocery', 'Rent', 'School Fees','Transport','Savings']"
   ]
  },
  {
   "cell_type": "markdown",
   "id": "b6672b0d-88d8-42e5-bf01-0eebaea80a56",
   "metadata": {},
   "source": [
    "#### with plotly express"
   ]
  },
  {
   "cell_type": "code",
   "execution_count": null,
   "id": "1eb42c77-2128-449c-9a5c-9e2d0cfab7b8",
   "metadata": {},
   "outputs": [],
   "source": [
    "fig = px.pie(values= exp_percent,\n",
    "             names= house_holdcategories,\n",
    "             title= 'Household Expenditure',\n",
    "            )\n",
    "\n",
    "fig.show()"
   ]
  },
  {
   "cell_type": "markdown",
   "id": "060141f6-0627-43fb-b3fb-969f3daede9b",
   "metadata": {},
   "source": [
    "#### with graph_object"
   ]
  },
  {
   "cell_type": "code",
   "execution_count": null,
   "id": "d6bf2e56-a218-408f-b712-525ca6789528",
   "metadata": {},
   "outputs": [],
   "source": [
    "# Create an empty Figure\n",
    "fig = go.Figure()\n",
    "\n",
    "# Create a pie chart\n",
    "fig.add_trace(go.Pie(values= exp_percent,\n",
    "                     labels= house_holdcategories,\n",
    "                     #hole=0.4,\n",
    "                     #textinfo='percent+label',\n",
    "                     hoverinfo='label+percent+value'\n",
    "                    )\n",
    "             )\n",
    "\n",
    "# Update the title\n",
    "fig.update_layout(title= 'Household Expenditure')\n",
    "\n",
    "# Display the Figure\n",
    "fig.show()"
   ]
  },
  {
   "cell_type": "markdown",
   "id": "2c55c06d-335d-4147-8fdd-bceb1e060678",
   "metadata": {},
   "source": [
    "### Sunburst Chart"
   ]
  },
  {
   "cell_type": "code",
   "execution_count": null,
   "id": "a4136937-9998-4ac8-bd50-36420bde566b",
   "metadata": {},
   "outputs": [],
   "source": [
    "data = dict(\n",
    "    character=[\"Eve\", \"Cain\", \"Seth\", \"Enos\", \"Noam\", \"Abel\", \"Awan\", \"Enoch\", \"Azura\"],\n",
    "    parent=[\"\", \"Eve\", \"Eve\", \"Seth\", \"Seth\", \"Eve\", \"Eve\", \"Awan\", \"Eve\" ],\n",
    "    value=[10, 14, 12, 10, 2, 6, 6, 4, 4])"
   ]
  },
  {
   "cell_type": "markdown",
   "id": "8d2be414-9847-47a0-8e84-a6a09ec265dd",
   "metadata": {},
   "source": [
    "#### with plotly express"
   ]
  },
  {
   "cell_type": "code",
   "execution_count": null,
   "id": "fa327642-55ed-4385-bbbf-a5eb57c2d330",
   "metadata": {},
   "outputs": [],
   "source": [
    "fig = px.sunburst(data,\n",
    "                  names= 'character',\n",
    "                  parents= 'parent',\n",
    "                  values= 'value',\n",
    "                  title= 'Family Chart',\n",
    "                 )\n",
    "\n",
    "fig.show()"
   ]
  },
  {
   "cell_type": "code",
   "execution_count": null,
   "id": "99ae9e11-1672-49f9-a4e8-de0abee8a0a3",
   "metadata": {},
   "outputs": [],
   "source": [
    "fig = px.sunburst(data,\n",
    "                  path= ['character', 'parent'], \n",
    "                  values= 'value',\n",
    "                  title= 'Flight Distribution Hierarchy'\n",
    "                 )\n",
    "\n",
    "fig.show()"
   ]
  },
  {
   "cell_type": "markdown",
   "id": "32dfdc7c-5551-4387-be7c-e8cf67c241a0",
   "metadata": {},
   "source": [
    "#### with graph_object"
   ]
  },
  {
   "cell_type": "code",
   "execution_count": null,
   "id": "cd41fb4e-a53f-4063-9d71-c1f71b8f54a0",
   "metadata": {},
   "outputs": [],
   "source": [
    "fig = go.Figure(go.Sunburst(labels=data['character'],\n",
    "                            parents=data['parent'],\n",
    "                            values=data['value'],\n",
    "                            )\n",
    "               )\n",
    "\n",
    "fig.update_layout(title='Family Chart')\n",
    "\n",
    "fig.show()"
   ]
  },
  {
   "cell_type": "code",
   "execution_count": null,
   "id": "7c7191da-b7a6-4d34-ad2d-80913df983d6",
   "metadata": {},
   "outputs": [],
   "source": []
  }
 ],
 "metadata": {
  "kernelspec": {
   "display_name": "Python 3 (ipykernel)",
   "language": "python",
   "name": "python3"
  },
  "language_info": {
   "codemirror_mode": {
    "name": "ipython",
    "version": 3
   },
   "file_extension": ".py",
   "mimetype": "text/x-python",
   "name": "python",
   "nbconvert_exporter": "python",
   "pygments_lexer": "ipython3",
   "version": "3.12.2"
  }
 },
 "nbformat": 4,
 "nbformat_minor": 5
}
